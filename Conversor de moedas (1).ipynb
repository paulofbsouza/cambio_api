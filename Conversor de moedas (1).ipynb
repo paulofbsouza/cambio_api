{
 "cells": [
  {
   "cell_type": "code",
   "execution_count": 2,
   "metadata": {},
   "outputs": [
    {
     "name": "stdout",
     "output_type": "stream",
     "text": [
      "Cotação de moedas em R$\n",
      "\n",
      "Dolar Americano\n",
      "R$ 5.34\n",
      "\n",
      "Bitcoin\n",
      "R$35562,64\n",
      "\n",
      "Euro\n",
      "R$ 5.78\n",
      "\n"
     ]
    }
   ],
   "source": [
    "#Um simples conversor de moedas e criptmoedas para a moeda brasileira.\n",
    "#Opção 1\n",
    "#pip install BRCurrencyPy\n",
    "\n",
    "from brcurrency.dolar import Dolar\n",
    "from brcurrency.bitcoin import Bitcoin\n",
    "from brcurrency.euro import Euro\n",
    "\n",
    "print('Cotação de moedas em R$')\n",
    "print()\n",
    "\n",
    "# Converção dólar\n",
    "dolar =  Dolar() # Cria o objeto conversor\n",
    "print('Dolar Americano')\n",
    "print('R$',dolar.get_cotacao()) # Pega a cotação atual do Dólar\n",
    "print()\n",
    "\n",
    "# Converção bitcoin\n",
    "bitcoin =  Bitcoin()\n",
    "print('Bitcoin')\n",
    "#print(bitcoin.get_cotacao()) # Pega a cotação atual do Bitcoin\n",
    "print(bitcoin.converter_str(1)) # Converte ₿1.0 em R$ para String e adiciona o R$ na frente\n",
    "print()\n",
    "\n",
    "# Conversão euro\n",
    "euro =  Euro()\n",
    "print('Euro')\n",
    "print('R$',euro.get_cotacao()) # Pega a cotação atual do Euro\n",
    "print()\n"
   ]
  },
  {
   "cell_type": "code",
   "execution_count": null,
   "metadata": {},
   "outputs": [],
   "source": []
  },
  {
   "cell_type": "code",
   "execution_count": null,
   "metadata": {},
   "outputs": [],
   "source": []
  },
  {
   "cell_type": "code",
   "execution_count": null,
   "metadata": {},
   "outputs": [],
   "source": []
  },
  {
   "cell_type": "code",
   "execution_count": null,
   "metadata": {},
   "outputs": [],
   "source": []
  }
 ],
 "metadata": {
  "kernelspec": {
   "display_name": "Python 3",
   "language": "python",
   "name": "python3"
  },
  "language_info": {
   "codemirror_mode": {
    "name": "ipython",
    "version": 3
   },
   "file_extension": ".py",
   "mimetype": "text/x-python",
   "name": "python",
   "nbconvert_exporter": "python",
   "pygments_lexer": "ipython3",
   "version": "3.6.5"
  }
 },
 "nbformat": 4,
 "nbformat_minor": 2
}
