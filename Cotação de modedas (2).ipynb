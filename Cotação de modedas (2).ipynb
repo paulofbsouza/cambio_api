{
 "cells": [
  {
   "cell_type": "markdown",
   "metadata": {},
   "source": [
    "# Cotação de moedas BRL por API"
   ]
  },
  {
   "cell_type": "markdown",
   "metadata": {},
   "source": [
    "#Projeto2 para coetação de moedas em real (R$)\n",
    "#Estes são os dados disponíveis para a consulta da cotação\n",
    "Fonte: https://requests.readthedocs.io/pt_BR/latest/user/quickstart.html"
   ]
  },
  {
   "cell_type": "markdown",
   "metadata": {},
   "source": [
    "Abaixo é possível verificar a disponibilidade de todos os dados do API"
   ]
  },
  {
   "cell_type": "code",
   "execution_count": 1,
   "metadata": {},
   "outputs": [
    {
     "name": "stdout",
     "output_type": "stream",
     "text": [
      "{\"USD\":{\"code\":\"USD\",\"codein\":\"BRL\",\"name\":\"Dólar Comercial\",\"high\":\"5.3539\",\"low\":\"5.2546\",\"varBid\":\"0.0968\",\"pctChange\":\"1.84\",\"bid\":\"5.3491\",\"ask\":\"5.3511\",\"timestamp\":\"1585947595\",\"create_date\":\"2020-04-03 21:00:02\"},\"USDT\":{\"code\":\"USD\",\"codein\":\"BRLT\",\"name\":\"Dólar Turismo\",\"high\":\"5.29\",\"low\":\"5.24\",\"varBid\":\"0.05\",\"pctChange\":\"0.899\",\"bid\":\"5.29\",\"ask\":\"5.61\",\"timestamp\":\"1585941900000\",\"create_date\":\"2020-04-04 11:45:00\"},\"CAD\":{\"code\":\"CAD\",\"codein\":\"BRL\",\"name\":\"Dólar Canadense\",\"high\":\"3.7723\",\"low\":\"3.6949\",\"varBid\":\"0.0473\",\"pctChange\":\"1.27\",\"bid\":\"3.7638\",\"ask\":\"3.766\",\"timestamp\":\"1585947596\",\"create_date\":\"2020-04-03 21:00:04\"},\"EUR\":{\"code\":\"EUR\",\"codein\":\"BRL\",\"name\":\"Euro\",\"high\":\"5.7877\",\"low\":\"5.669\",\"varBid\":\"0.074\",\"pctChange\":\"1.3\",\"bid\":\"5.7796\",\"ask\":\"5.7824\",\"timestamp\":\"1585947596\",\"create_date\":\"2020-04-03 21:00:02\"},\"GBP\":{\"code\":\"GBP\",\"codein\":\"BRL\",\"name\":\"Libra Esterlina\",\"high\":\"6.5695\",\"low\":\"6.4456\",\"varBid\":\"0.0503\",\"pctChange\":\"0.77\",\"bid\":\"6.5623\",\"ask\":\"6.5674\",\"timestamp\":\"1585947595\",\"create_date\":\"2020-04-03 21:00:03\"},\"ARS\":{\"code\":\"ARS\",\"codein\":\"BRL\",\"name\":\"Peso Argentino\",\"high\":\"0.0825\",\"low\":\"0.0812\",\"varBid\":\"0.0012\",\"pctChange\":\"1.48\",\"bid\":\"0.0824\",\"ask\":\"0.0824\",\"timestamp\":\"1585947595\",\"create_date\":\"2020-04-03 21:00:04\"},\"BTC\":{\"code\":\"BTC\",\"codein\":\"BRL\",\"name\":\"Bitcoin\",\"high\":\"36000\",\"low\":\"35068.7\",\"varBid\":\"-228.9\",\"pctChange\":\"-0.64\",\"bid\":\"35441\",\"ask\":\"35451\",\"timestamp\":\"1586011546\",\"create_date\":\"2020-04-04 11:45:46\"},\"LTC\":{\"code\":\"LTC\",\"codein\":\"BRL\",\"name\":\"Litecoin\",\"high\":\"212\",\"low\":\"194.6\",\"varBid\":\"0.18\",\"pctChange\":\"0.09\",\"bid\":\"207.2\",\"ask\":\"207.4\",\"timestamp\":\"1586011593\",\"create_date\":\"2020-04-04 11:46:33\"},\"JPY\":{\"code\":\"JPY\",\"codein\":\"BRL\",\"name\":\"Iene Japonês\",\"high\":\"0.04941\",\"low\":\"0.04841\",\"varBid\":\"0.0006\",\"pctChange\":\"1.23\",\"bid\":\"0.04926\",\"ask\":\"0.04933\",\"timestamp\":\"1585947586\",\"create_date\":\"2020-04-03 21:00:04\"},\"CHF\":{\"code\":\"CHF\",\"codein\":\"BRL\",\"name\":\"Franco Suíço\",\"high\":\"5.4813\",\"low\":\"5.3765\",\"varBid\":\"0.0736\",\"pctChange\":\"1.36\",\"bid\":\"5.4693\",\"ask\":\"5.4726\",\"timestamp\":\"1585947594\",\"create_date\":\"2020-04-03 21:00:04\"},\"AUD\":{\"code\":\"AUD\",\"codein\":\"BRL\",\"name\":\"Dólar Australiano\",\"high\":\"3.2109\",\"low\":\"3.1435\",\"varBid\":\"0.0232\",\"pctChange\":\"0.73\",\"bid\":\"3.207\",\"ask\":\"3.2097\",\"timestamp\":\"1585947598\",\"create_date\":\"2020-04-03 21:00:04\"},\"CNY\":{\"code\":\"CNY\",\"codein\":\"BRL\",\"name\":\"Yuan Chinês\",\"high\":\"0.7544\",\"low\":\"0.7405\",\"varBid\":\"0.0127\",\"pctChange\":\"1.72\",\"bid\":\"0.7542\",\"ask\":\"0.7545\",\"timestamp\":\"1585947544\",\"create_date\":\"2020-04-03 17:59:04\"},\"ILS\":{\"code\":\"ILS\",\"codein\":\"BRL\",\"name\":\"Novo Shekel Israelense\",\"high\":\"1.473\",\"low\":\"1.4415\",\"varBid\":\"0.0214\",\"pctChange\":\"1.47\",\"bid\":\"1.4724\",\"ask\":\"1.4731\",\"timestamp\":\"1585947546\",\"create_date\":\"2020-04-03 17:59:06\"},\"ETH\":{\"code\":\"ETH\",\"codein\":\"BRL\",\"name\":\"Ethereum\",\"high\":\"1007.11\",\"low\":\"144\",\"varBid\":\"863.11\",\"pctChange\":\"599.38\",\"bid\":\"217.12\",\"ask\":\"1007.1\",\"timestamp\":\"1586008417\",\"create_date\":\"2020-04-04 10:53:37\"},\"XRP\":{\"code\":\"XRP\",\"codein\":\"BRL\",\"name\":\"Ripple\",\"high\":\"0.93\",\"low\":\"0.91\",\"varBid\":\"-0.01\",\"pctChange\":\"-0.86\",\"bid\":\"0.92\",\"ask\":\"0.92\",\"timestamp\":\"1586011487\",\"create_date\":\"2020-04-04 11:44:48\"}}\n",
      "Fonte: https://economia.awesomeapi.com.br/json/all\n"
     ]
    }
   ],
   "source": [
    "import requests\n",
    "r = requests.get('https://economia.awesomeapi.com.br/json/all')\n",
    "print(r.text)\n",
    "print('Fonte:', r.url)\n"
   ]
  },
  {
   "cell_type": "code",
   "execution_count": 2,
   "metadata": {},
   "outputs": [
    {
     "data": {
      "text/plain": [
       "{'USD': {'code': 'USD',\n",
       "  'codein': 'BRL',\n",
       "  'name': 'Dólar Comercial',\n",
       "  'high': '5.3539',\n",
       "  'low': '5.2546',\n",
       "  'varBid': '0.0968',\n",
       "  'pctChange': '1.84',\n",
       "  'bid': '5.3491',\n",
       "  'ask': '5.3511',\n",
       "  'timestamp': '1585947595',\n",
       "  'create_date': '2020-04-03 21:00:02'},\n",
       " 'USDT': {'code': 'USD',\n",
       "  'codein': 'BRLT',\n",
       "  'name': 'Dólar Turismo',\n",
       "  'high': '5.29',\n",
       "  'low': '5.24',\n",
       "  'varBid': '0.05',\n",
       "  'pctChange': '0.899',\n",
       "  'bid': '5.29',\n",
       "  'ask': '5.61',\n",
       "  'timestamp': '1585941900000',\n",
       "  'create_date': '2020-04-04 11:45:00'},\n",
       " 'CAD': {'code': 'CAD',\n",
       "  'codein': 'BRL',\n",
       "  'name': 'Dólar Canadense',\n",
       "  'high': '3.7723',\n",
       "  'low': '3.6949',\n",
       "  'varBid': '0.0473',\n",
       "  'pctChange': '1.27',\n",
       "  'bid': '3.7638',\n",
       "  'ask': '3.766',\n",
       "  'timestamp': '1585947596',\n",
       "  'create_date': '2020-04-03 21:00:04'},\n",
       " 'EUR': {'code': 'EUR',\n",
       "  'codein': 'BRL',\n",
       "  'name': 'Euro',\n",
       "  'high': '5.7877',\n",
       "  'low': '5.669',\n",
       "  'varBid': '0.074',\n",
       "  'pctChange': '1.3',\n",
       "  'bid': '5.7796',\n",
       "  'ask': '5.7824',\n",
       "  'timestamp': '1585947596',\n",
       "  'create_date': '2020-04-03 21:00:02'},\n",
       " 'GBP': {'code': 'GBP',\n",
       "  'codein': 'BRL',\n",
       "  'name': 'Libra Esterlina',\n",
       "  'high': '6.5695',\n",
       "  'low': '6.4456',\n",
       "  'varBid': '0.0503',\n",
       "  'pctChange': '0.77',\n",
       "  'bid': '6.5623',\n",
       "  'ask': '6.5674',\n",
       "  'timestamp': '1585947595',\n",
       "  'create_date': '2020-04-03 21:00:03'},\n",
       " 'ARS': {'code': 'ARS',\n",
       "  'codein': 'BRL',\n",
       "  'name': 'Peso Argentino',\n",
       "  'high': '0.0825',\n",
       "  'low': '0.0812',\n",
       "  'varBid': '0.0012',\n",
       "  'pctChange': '1.48',\n",
       "  'bid': '0.0824',\n",
       "  'ask': '0.0824',\n",
       "  'timestamp': '1585947595',\n",
       "  'create_date': '2020-04-03 21:00:04'},\n",
       " 'BTC': {'code': 'BTC',\n",
       "  'codein': 'BRL',\n",
       "  'name': 'Bitcoin',\n",
       "  'high': '36000',\n",
       "  'low': '35068.7',\n",
       "  'varBid': '-228.9',\n",
       "  'pctChange': '-0.64',\n",
       "  'bid': '35441',\n",
       "  'ask': '35451',\n",
       "  'timestamp': '1586011546',\n",
       "  'create_date': '2020-04-04 11:45:46'},\n",
       " 'LTC': {'code': 'LTC',\n",
       "  'codein': 'BRL',\n",
       "  'name': 'Litecoin',\n",
       "  'high': '212',\n",
       "  'low': '194.6',\n",
       "  'varBid': '0.18',\n",
       "  'pctChange': '0.09',\n",
       "  'bid': '207.2',\n",
       "  'ask': '207.4',\n",
       "  'timestamp': '1586011593',\n",
       "  'create_date': '2020-04-04 11:46:33'},\n",
       " 'JPY': {'code': 'JPY',\n",
       "  'codein': 'BRL',\n",
       "  'name': 'Iene Japonês',\n",
       "  'high': '0.04941',\n",
       "  'low': '0.04841',\n",
       "  'varBid': '0.0006',\n",
       "  'pctChange': '1.23',\n",
       "  'bid': '0.04926',\n",
       "  'ask': '0.04933',\n",
       "  'timestamp': '1585947586',\n",
       "  'create_date': '2020-04-03 21:00:04'},\n",
       " 'CHF': {'code': 'CHF',\n",
       "  'codein': 'BRL',\n",
       "  'name': 'Franco Suíço',\n",
       "  'high': '5.4813',\n",
       "  'low': '5.3765',\n",
       "  'varBid': '0.0736',\n",
       "  'pctChange': '1.36',\n",
       "  'bid': '5.4693',\n",
       "  'ask': '5.4726',\n",
       "  'timestamp': '1585947594',\n",
       "  'create_date': '2020-04-03 21:00:04'},\n",
       " 'AUD': {'code': 'AUD',\n",
       "  'codein': 'BRL',\n",
       "  'name': 'Dólar Australiano',\n",
       "  'high': '3.2109',\n",
       "  'low': '3.1435',\n",
       "  'varBid': '0.0232',\n",
       "  'pctChange': '0.73',\n",
       "  'bid': '3.207',\n",
       "  'ask': '3.2097',\n",
       "  'timestamp': '1585947598',\n",
       "  'create_date': '2020-04-03 21:00:04'},\n",
       " 'CNY': {'code': 'CNY',\n",
       "  'codein': 'BRL',\n",
       "  'name': 'Yuan Chinês',\n",
       "  'high': '0.7544',\n",
       "  'low': '0.7405',\n",
       "  'varBid': '0.0127',\n",
       "  'pctChange': '1.72',\n",
       "  'bid': '0.7542',\n",
       "  'ask': '0.7545',\n",
       "  'timestamp': '1585947544',\n",
       "  'create_date': '2020-04-03 17:59:04'},\n",
       " 'ILS': {'code': 'ILS',\n",
       "  'codein': 'BRL',\n",
       "  'name': 'Novo Shekel Israelense',\n",
       "  'high': '1.473',\n",
       "  'low': '1.4415',\n",
       "  'varBid': '0.0214',\n",
       "  'pctChange': '1.47',\n",
       "  'bid': '1.4724',\n",
       "  'ask': '1.4731',\n",
       "  'timestamp': '1585947546',\n",
       "  'create_date': '2020-04-03 17:59:06'},\n",
       " 'ETH': {'code': 'ETH',\n",
       "  'codein': 'BRL',\n",
       "  'name': 'Ethereum',\n",
       "  'high': '1007.11',\n",
       "  'low': '144',\n",
       "  'varBid': '863.11',\n",
       "  'pctChange': '599.38',\n",
       "  'bid': '217.12',\n",
       "  'ask': '1007.1',\n",
       "  'timestamp': '1586008417',\n",
       "  'create_date': '2020-04-04 10:53:37'},\n",
       " 'XRP': {'code': 'XRP',\n",
       "  'codein': 'BRL',\n",
       "  'name': 'Ripple',\n",
       "  'high': '0.93',\n",
       "  'low': '0.91',\n",
       "  'varBid': '-0.01',\n",
       "  'pctChange': '-0.86',\n",
       "  'bid': '0.92',\n",
       "  'ask': '0.92',\n",
       "  'timestamp': '1586011487',\n",
       "  'create_date': '2020-04-04 11:44:48'}}"
      ]
     },
     "execution_count": 2,
     "metadata": {},
     "output_type": "execute_result"
    }
   ],
   "source": [
    "r.json()   #resposta em Json"
   ]
  },
  {
   "cell_type": "code",
   "execution_count": 3,
   "metadata": {},
   "outputs": [
    {
     "data": {
      "text/plain": [
       "'application/json; charset=utf-8'"
      ]
     },
     "execution_count": 3,
     "metadata": {},
     "output_type": "execute_result"
    }
   ],
   "source": [
    "r.headers['Content-Type']"
   ]
  },
  {
   "cell_type": "code",
   "execution_count": 4,
   "metadata": {},
   "outputs": [
    {
     "name": "stdout",
     "output_type": "stream",
     "text": [
      "{'USD': {'code': 'USD', 'codein': 'BRL', 'name': 'Dólar Comercial', 'high': '5.3539', 'low': '5.2546', 'varBid': '0.0968', 'pctChange': '1.84', 'bid': '5.3491', 'ask': '5.3511', 'timestamp': '1585947595', 'create_date': '2020-04-03 21:00:02'}, 'USDT': {'code': 'USD', 'codein': 'BRLT', 'name': 'Dólar Turismo', 'high': '5.29', 'low': '5.24', 'varBid': '0.05', 'pctChange': '0.899', 'bid': '5.29', 'ask': '5.61', 'timestamp': '1585941900000', 'create_date': '2020-04-04 11:45:00'}, 'CAD': {'code': 'CAD', 'codein': 'BRL', 'name': 'Dólar Canadense', 'high': '3.7723', 'low': '3.6949', 'varBid': '0.0473', 'pctChange': '1.27', 'bid': '3.7638', 'ask': '3.766', 'timestamp': '1585947596', 'create_date': '2020-04-03 21:00:04'}, 'EUR': {'code': 'EUR', 'codein': 'BRL', 'name': 'Euro', 'high': '5.7877', 'low': '5.669', 'varBid': '0.074', 'pctChange': '1.3', 'bid': '5.7796', 'ask': '5.7824', 'timestamp': '1585947596', 'create_date': '2020-04-03 21:00:02'}, 'GBP': {'code': 'GBP', 'codein': 'BRL', 'name': 'Libra Esterlina', 'high': '6.5695', 'low': '6.4456', 'varBid': '0.0503', 'pctChange': '0.77', 'bid': '6.5623', 'ask': '6.5674', 'timestamp': '1585947595', 'create_date': '2020-04-03 21:00:03'}, 'ARS': {'code': 'ARS', 'codein': 'BRL', 'name': 'Peso Argentino', 'high': '0.0825', 'low': '0.0812', 'varBid': '0.0012', 'pctChange': '1.48', 'bid': '0.0824', 'ask': '0.0824', 'timestamp': '1585947595', 'create_date': '2020-04-03 21:00:04'}, 'BTC': {'code': 'BTC', 'codein': 'BRL', 'name': 'Bitcoin', 'high': '36000', 'low': '35068.7', 'varBid': '-228.9', 'pctChange': '-0.64', 'bid': '35441', 'ask': '35451', 'timestamp': '1586011546', 'create_date': '2020-04-04 11:45:46'}, 'LTC': {'code': 'LTC', 'codein': 'BRL', 'name': 'Litecoin', 'high': '212', 'low': '194.6', 'varBid': '0.18', 'pctChange': '0.09', 'bid': '207.2', 'ask': '207.4', 'timestamp': '1586011593', 'create_date': '2020-04-04 11:46:33'}, 'JPY': {'code': 'JPY', 'codein': 'BRL', 'name': 'Iene Japonês', 'high': '0.04941', 'low': '0.04841', 'varBid': '0.0006', 'pctChange': '1.23', 'bid': '0.04926', 'ask': '0.04933', 'timestamp': '1585947586', 'create_date': '2020-04-03 21:00:04'}, 'CHF': {'code': 'CHF', 'codein': 'BRL', 'name': 'Franco Suíço', 'high': '5.4813', 'low': '5.3765', 'varBid': '0.0736', 'pctChange': '1.36', 'bid': '5.4693', 'ask': '5.4726', 'timestamp': '1585947594', 'create_date': '2020-04-03 21:00:04'}, 'AUD': {'code': 'AUD', 'codein': 'BRL', 'name': 'Dólar Australiano', 'high': '3.2109', 'low': '3.1435', 'varBid': '0.0232', 'pctChange': '0.73', 'bid': '3.207', 'ask': '3.2097', 'timestamp': '1585947598', 'create_date': '2020-04-03 21:00:04'}, 'CNY': {'code': 'CNY', 'codein': 'BRL', 'name': 'Yuan Chinês', 'high': '0.7544', 'low': '0.7405', 'varBid': '0.0127', 'pctChange': '1.72', 'bid': '0.7542', 'ask': '0.7545', 'timestamp': '1585947544', 'create_date': '2020-04-03 17:59:04'}, 'ILS': {'code': 'ILS', 'codein': 'BRL', 'name': 'Novo Shekel Israelense', 'high': '1.473', 'low': '1.4415', 'varBid': '0.0214', 'pctChange': '1.47', 'bid': '1.4724', 'ask': '1.4731', 'timestamp': '1585947546', 'create_date': '2020-04-03 17:59:06'}, 'ETH': {'code': 'ETH', 'codein': 'BRL', 'name': 'Ethereum', 'high': '1007.11', 'low': '144', 'varBid': '863.11', 'pctChange': '599.38', 'bid': '217.12', 'ask': '1007.1', 'timestamp': '1586008417', 'create_date': '2020-04-04 10:53:37'}, 'XRP': {'code': 'XRP', 'codein': 'BRL', 'name': 'Ripple', 'high': '0.93', 'low': '0.91', 'varBid': '-0.01', 'pctChange': '-0.86', 'bid': '0.92', 'ask': '0.92', 'timestamp': '1586011487', 'create_date': '2020-04-04 11:44:48'}}\n"
     ]
    }
   ],
   "source": [
    "print(r.json())"
   ]
  },
  {
   "cell_type": "markdown",
   "metadata": {},
   "source": [
    "Você precisa criar uma memória para esse json e depois consultar o dicionário\n"
   ]
  },
  {
   "cell_type": "code",
   "execution_count": 5,
   "metadata": {},
   "outputs": [
    {
     "name": "stdout",
     "output_type": "stream",
     "text": [
      "{'code': 'USD', 'codein': 'BRL', 'name': 'Dólar Comercial', 'high': '5.3539', 'low': '5.2546', 'varBid': '0.0968', 'pctChange': '1.84', 'bid': '5.3491', 'ask': '5.3511', 'timestamp': '1585947595', 'create_date': '2020-04-03 21:00:02'}\n",
      "Cotação do dólar americano: 5.3511\n",
      "Última atualização 2020-04-03 21:00:02\n"
     ]
    }
   ],
   "source": [
    "db = r.json()\n",
    "print(db[\"USD\"])\n",
    "print('Cotação do dólar americano:',db[\"USD\"][\"ask\"])\n",
    "print('Última atualização',db[\"USD\"][\"create_date\"])"
   ]
  },
  {
   "cell_type": "code",
   "execution_count": 6,
   "metadata": {},
   "outputs": [
    {
     "name": "stdout",
     "output_type": "stream",
     "text": [
      "Cotação do dólar americano: 5.3511\n",
      "Última atualização 2020-04-03 21:00:02\n"
     ]
    }
   ],
   "source": [
    "print('Cotação do dólar americano:',db[\"USD\"][\"ask\"])\n",
    "print('Última atualização',db[\"USD\"][\"create_date\"])"
   ]
  },
  {
   "cell_type": "code",
   "execution_count": 8,
   "metadata": {
    "scrolled": false
   },
   "outputs": [
    {
     "name": "stdout",
     "output_type": "stream",
     "text": [
      "Cotação do dólar Americano: R$ 5.3511\n",
      "Cotação do dólar Canadense: R$ 3.766\n",
      "Cotação do dólar Euro: R$ 5.7824\n",
      "Última atualização 2020-04-03 21:00:02\n",
      "Fonte: https://economia.awesomeapi.com.br/json/all\n"
     ]
    }
   ],
   "source": [
    "print('Cotação do dólar Americano: R$',db[\"USD\"][\"ask\"])\n",
    "print('Cotação do dólar Canadense: R$',db[\"CAD\"][\"ask\"])\n",
    "print('Cotação do dólar Euro: R$',db[\"EUR\"][\"ask\"])\n",
    "print('Última atualização',db[\"USD\"][\"create_date\"])\n",
    "print('Fonte:', r.url)"
   ]
  },
  {
   "cell_type": "markdown",
   "metadata": {},
   "source": [
    "Programação final do API de cotações v.2"
   ]
  },
  {
   "cell_type": "code",
   "execution_count": 10,
   "metadata": {},
   "outputs": [
    {
     "name": "stdout",
     "output_type": "stream",
     "text": [
      "Cotação de moedas em BRL\n",
      "\n",
      "Cotação do dólar Americano: R$ 5.3511\n",
      "Cotação do dólar Canadense: R$ 3.766\n",
      "Cotação do dólar Euro: R$ 5.7824\n",
      "\n",
      "Última atualização 2020-04-03 21:00:02\n",
      "Fonte: https://economia.awesomeapi.com.br/json/all\n"
     ]
    }
   ],
   "source": [
    "import requests\n",
    "\n",
    "r = requests.get('https://economia.awesomeapi.com.br/json/all')\n",
    "db = r.json()\n",
    "\n",
    "print('Cotação de moedas em BRL')\n",
    "print()\n",
    "\n",
    "print('Cotação do dólar Americano: R$',db[\"USD\"][\"ask\"])\n",
    "print('Cotação do dólar Canadense: R$',db[\"CAD\"][\"ask\"])\n",
    "print('Cotação do dólar Euro: R$',db[\"EUR\"][\"ask\"])\n",
    "print()\n",
    "\n",
    "print('Última atualização',db[\"USD\"][\"create_date\"])\n",
    "print('Fonte:', r.url)\n"
   ]
  },
  {
   "cell_type": "code",
   "execution_count": null,
   "metadata": {},
   "outputs": [],
   "source": []
  }
 ],
 "metadata": {
  "kernelspec": {
   "display_name": "Python 3",
   "language": "python",
   "name": "python3"
  },
  "language_info": {
   "codemirror_mode": {
    "name": "ipython",
    "version": 3
   },
   "file_extension": ".py",
   "mimetype": "text/x-python",
   "name": "python",
   "nbconvert_exporter": "python",
   "pygments_lexer": "ipython3",
   "version": "3.6.5"
  }
 },
 "nbformat": 4,
 "nbformat_minor": 2
}
