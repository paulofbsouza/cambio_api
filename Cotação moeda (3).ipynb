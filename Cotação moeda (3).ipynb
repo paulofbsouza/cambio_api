{
 "cells": [
  {
   "cell_type": "markdown",
   "metadata": {},
   "source": [
    "# Cotação de moedas BRL por API"
   ]
  },
  {
   "cell_type": "markdown",
   "metadata": {},
   "source": [
    "#Projeto3 para cotação de moedas em real (R$)\n",
    "#Utilizando o for em json\n"
   ]
  },
  {
   "cell_type": "code",
   "execution_count": 14,
   "metadata": {},
   "outputs": [
    {
     "name": "stdout",
     "output_type": "stream",
     "text": [
      "Teste 1: {'USD': {'code': 'USD', 'codein': 'BRL', 'name': 'Dólar Comercial', 'high': '5.3539', 'low': '5.2546', 'varBid': '0.0968', 'pctChange': '1.84', 'bid': '5.3491', 'ask': '5.3511', 'timestamp': '1585947595', 'create_date': '2020-04-03 21:00:02'}, 'USDT': {'code': 'USD', 'codein': 'BRLT', 'name': 'Dólar Turismo', 'high': '5.29', 'low': '5.24', 'varBid': '0.05', 'pctChange': '0.899', 'bid': '5.29', 'ask': '5.61', 'timestamp': '1585941900000', 'create_date': '2020-04-04 11:33:00'}, 'CAD': {'code': 'CAD', 'codein': 'BRL', 'name': 'Dólar Canadense', 'high': '3.7723', 'low': '3.6949', 'varBid': '0.0473', 'pctChange': '1.27', 'bid': '3.7638', 'ask': '3.766', 'timestamp': '1585947596', 'create_date': '2020-04-03 21:00:04'}, 'EUR': {'code': 'EUR', 'codein': 'BRL', 'name': 'Euro', 'high': '5.7877', 'low': '5.669', 'varBid': '0.074', 'pctChange': '1.3', 'bid': '5.7796', 'ask': '5.7824', 'timestamp': '1585947596', 'create_date': '2020-04-03 21:00:02'}, 'GBP': {'code': 'GBP', 'codein': 'BRL', 'name': 'Libra Esterlina', 'high': '6.5695', 'low': '6.4456', 'varBid': '0.0503', 'pctChange': '0.77', 'bid': '6.5623', 'ask': '6.5674', 'timestamp': '1585947595', 'create_date': '2020-04-03 21:00:03'}, 'ARS': {'code': 'ARS', 'codein': 'BRL', 'name': 'Peso Argentino', 'high': '0.0825', 'low': '0.0812', 'varBid': '0.0012', 'pctChange': '1.48', 'bid': '0.0824', 'ask': '0.0824', 'timestamp': '1585947595', 'create_date': '2020-04-03 21:00:04'}, 'BTC': {'code': 'BTC', 'codein': 'BRL', 'name': 'Bitcoin', 'high': '36000', 'low': '35068.7', 'varBid': '-237.9', 'pctChange': '-0.67', 'bid': '35441', 'ask': '35451', 'timestamp': '1586010766', 'create_date': '2020-04-04 11:32:46'}, 'LTC': {'code': 'LTC', 'codein': 'BRL', 'name': 'Litecoin', 'high': '212', 'low': '194.6', 'varBid': '0.62', 'pctChange': '0.3', 'bid': '207.22', 'ask': '208.78', 'timestamp': '1586010845', 'create_date': '2020-04-04 11:34:05'}, 'JPY': {'code': 'JPY', 'codein': 'BRL', 'name': 'Iene Japonês', 'high': '0.04941', 'low': '0.04841', 'varBid': '0.0006', 'pctChange': '1.23', 'bid': '0.04926', 'ask': '0.04933', 'timestamp': '1585947586', 'create_date': '2020-04-03 21:00:04'}, 'CHF': {'code': 'CHF', 'codein': 'BRL', 'name': 'Franco Suíço', 'high': '5.4813', 'low': '5.3765', 'varBid': '0.0736', 'pctChange': '1.36', 'bid': '5.4693', 'ask': '5.4726', 'timestamp': '1585947594', 'create_date': '2020-04-03 21:00:04'}, 'AUD': {'code': 'AUD', 'codein': 'BRL', 'name': 'Dólar Australiano', 'high': '3.2109', 'low': '3.1435', 'varBid': '0.0232', 'pctChange': '0.73', 'bid': '3.207', 'ask': '3.2097', 'timestamp': '1585947598', 'create_date': '2020-04-03 21:00:04'}, 'CNY': {'code': 'CNY', 'codein': 'BRL', 'name': 'Yuan Chinês', 'high': '0.7544', 'low': '0.7405', 'varBid': '0.0127', 'pctChange': '1.72', 'bid': '0.7542', 'ask': '0.7545', 'timestamp': '1585947544', 'create_date': '2020-04-03 17:59:04'}, 'ILS': {'code': 'ILS', 'codein': 'BRL', 'name': 'Novo Shekel Israelense', 'high': '1.473', 'low': '1.4415', 'varBid': '0.0214', 'pctChange': '1.47', 'bid': '1.4724', 'ask': '1.4731', 'timestamp': '1585947546', 'create_date': '2020-04-03 17:59:06'}, 'ETH': {'code': 'ETH', 'codein': 'BRL', 'name': 'Ethereum', 'high': '1007.11', 'low': '144', 'varBid': '863.11', 'pctChange': '599.38', 'bid': '217.12', 'ask': '1007.1', 'timestamp': '1586008417', 'create_date': '2020-04-04 10:53:37'}, 'XRP': {'code': 'XRP', 'codein': 'BRL', 'name': 'Ripple', 'high': '0.93', 'low': '0.91', 'varBid': '0.01', 'pctChange': '0.56', 'bid': '0.92', 'ask': '0.93', 'timestamp': '1586010847', 'create_date': '2020-04-04 11:34:07'}}\n",
      "Teste 2: USD\n"
     ]
    }
   ],
   "source": [
    "import requests\n",
    "\n",
    "url = 'https://economia.awesomeapi.com.br/json/all'\n",
    "resp = requests.get(url).json()\n",
    "print ('Teste 1:', resp)\n",
    "print ('Teste 2:', resp['USD']['code'])\n"
   ]
  },
  {
   "cell_type": "code",
   "execution_count": 11,
   "metadata": {},
   "outputs": [
    {
     "name": "stdout",
     "output_type": "stream",
     "text": [
      "Teste: <class 'dict'>\n",
      "True\n"
     ]
    }
   ],
   "source": [
    "print ('Teste:', type(resp))\n",
    "print('CAD' in resp)\n"
   ]
  },
  {
   "cell_type": "code",
   "execution_count": 13,
   "metadata": {},
   "outputs": [
    {
     "name": "stdout",
     "output_type": "stream",
     "text": [
      "USD\n",
      "USDT\n",
      "CAD\n",
      "EUR\n",
      "GBP\n",
      "ARS\n",
      "BTC\n",
      "LTC\n",
      "JPY\n",
      "CHF\n",
      "AUD\n",
      "CNY\n",
      "ILS\n",
      "ETH\n",
      "XRP\n"
     ]
    }
   ],
   "source": [
    "for moeda in resp:\n",
    "    print (moeda)"
   ]
  },
  {
   "cell_type": "markdown",
   "metadata": {},
   "source": [
    "Programação final do API de cotações v.3"
   ]
  },
  {
   "cell_type": "code",
   "execution_count": 43,
   "metadata": {},
   "outputs": [
    {
     "name": "stdout",
     "output_type": "stream",
     "text": [
      "Cotação de moedas estrangeiras:\n",
      "\n",
      "USD\n",
      "R$ 5.3511\n",
      "CAD\n",
      "R$ 3.766\n",
      "EUR\n",
      "R$ 5.7824\n",
      "\n",
      "Última atualização: 2020-04-04 11:53:18\n",
      "Fonte: https://economia.awesomeapi.com.br/json/all\n"
     ]
    }
   ],
   "source": [
    "import requests\n",
    "\n",
    "url = 'https://economia.awesomeapi.com.br/json/all'\n",
    "resp = requests.get(url).json()\n",
    "\n",
    "print('Cotação de moedas estrangeiras:')\n",
    "print()\n",
    "\n",
    "for x in resp:\n",
    "    if x == 'USD' or x == 'CAD' or x == 'EUR':\n",
    "        print(x)\n",
    "        print('R$',resp[x]['ask'])\n",
    "print()\n",
    "print('Última atualização:',resp[x]['create_date'])\n",
    "print('Fonte:',url)"
   ]
  },
  {
   "cell_type": "code",
   "execution_count": null,
   "metadata": {},
   "outputs": [],
   "source": []
  }
 ],
 "metadata": {
  "kernelspec": {
   "display_name": "Python 3",
   "language": "python",
   "name": "python3"
  },
  "language_info": {
   "codemirror_mode": {
    "name": "ipython",
    "version": 3
   },
   "file_extension": ".py",
   "mimetype": "text/x-python",
   "name": "python",
   "nbconvert_exporter": "python",
   "pygments_lexer": "ipython3",
   "version": "3.6.5"
  }
 },
 "nbformat": 4,
 "nbformat_minor": 2
}
